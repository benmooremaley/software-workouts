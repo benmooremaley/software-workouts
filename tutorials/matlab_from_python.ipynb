{
 "cells": [
  {
   "cell_type": "markdown",
   "metadata": {},
   "source": [
    "# Running MATLAB from PYTHON "
   ]
  },
  {
   "cell_type": "code",
   "execution_count": 1,
   "metadata": {
    "collapsed": true
   },
   "outputs": [],
   "source": [
    "import numpy as np\n",
    "\n",
    "import os\n",
    "import subprocess as sp\n",
    "import shlex"
   ]
  },
  {
   "cell_type": "markdown",
   "metadata": {},
   "source": [
    "## 1. Very Simple Commands, use a !"
   ]
  },
  {
   "cell_type": "code",
   "execution_count": 2,
   "metadata": {
    "collapsed": false
   },
   "outputs": [
    {
     "name": "stdout",
     "output_type": "stream",
     "text": [
      "CT_out\t\t     mw_gsw_CT_from_t.m~  mywrapper.m\ttemporaryfile\r\n",
      "foo.sh\t\t     mw_gsw_SA_from_SP.m  mywrapper.m~\tUntitled.ipynb\r\n",
      "matfiles\t     myoutput\t\t  results.txt\twrapper_gsw_check.m\r\n",
      "matfiles2\t     myoutputfile\t  SA_out\twrapper_gsw_check.m~\r\n",
      "MatlabScripts.ipynb  myscript.m\t\t  startup.m\r\n",
      "mw_gsw_CT_from_t.m   myscript.m~\t  stuff\r\n"
     ]
    }
   ],
   "source": [
    "# simple commands can be run with a !\n",
    "!ls"
   ]
  },
  {
   "cell_type": "markdown",
   "metadata": {},
   "source": [
    "## 2. OS Provides a Number of Useful Commands"
   ]
  },
  {
   "cell_type": "code",
   "execution_count": 4,
   "metadata": {
    "collapsed": false
   },
   "outputs": [
    {
     "name": "stdout",
     "output_type": "stream",
     "text": [
      "CT_out\t\t     mw_gsw_CT_from_t.m~  mywrapper.m\ttemporaryfile\r\n",
      "foo.sh\t\t     mw_gsw_SA_from_SP.m  mywrapper.m~\tUntitled.ipynb\r\n",
      "matfiles/\t     myoutput\t\t  results.txt\twrapper_gsw_check.m\r\n",
      "matfiles2/\t     myoutputfile\t  SA_out\twrapper_gsw_check.m~\r\n",
      "MatlabScripts.ipynb  myscript.m\t\t  startup.m\r\n",
      "mw_gsw_CT_from_t.m   myscript.m~\t  stuff\r\n"
     ]
    }
   ],
   "source": [
    "# more complicated commands, say where you want to use a variable file name,  can be run with os\n",
    "newdirectory = 'matfiles'\n",
    "os.mkdir(newdirectory)\n",
    "!ls -F"
   ]
  },
  {
   "cell_type": "markdown",
   "metadata": {},
   "source": [
    "## 3. To Call Scripts use Subprocess, each piece in \"\""
   ]
  },
  {
   "cell_type": "code",
   "execution_count": 5,
   "metadata": {
    "collapsed": false
   },
   "outputs": [
    {
     "name": "stdout",
     "output_type": "stream",
     "text": [
      "function [] = myscript(filename, x)\r\n",
      "  y = sin(x);\r\n",
      "  dlmwrite(filename, y, ' ')\r\n",
      "end\r\n",
      "\r\n",
      "\r\n",
      "\r\n"
     ]
    }
   ],
   "source": [
    "# and calling scripts\n",
    "!cat myscript.m"
   ]
  },
  {
   "cell_type": "code",
   "execution_count": 6,
   "metadata": {
    "collapsed": false
   },
   "outputs": [
    {
     "name": "stdout",
     "output_type": "stream",
     "text": [
      "myscript('myoutput', [ 0.   0.1  0.2  0.3  0.4  0.5  0.6  0.7  0.8  0.9]);exit\n",
      "['matlab', '-nodesktop', '-nodisplay', '-r', \"myscript('myoutput', [ 0.   0.1  0.2  0.3  0.4  0.5  0.6  0.7  0.8  0.9]);exit\"]\n",
      "0 0.099833 0.19867 0.29552 0.38942 0.47943 0.56464 0.64422 0.71736 0.78333\r\n"
     ]
    }
   ],
   "source": [
    "x = np.arange(0, 1, 0.1)\n",
    "filename = \"'myoutput'\"\n",
    "functioncall = 'myscript(' + filename + ', '+ str(x) + ');exit'\n",
    "print (functioncall)\n",
    "cmd = [\"matlab\",\"-nodesktop\",\"-nodisplay\",\"-r\", functioncall]\n",
    "print (cmd)\n",
    "sp.run(cmd)\n",
    "!cat myoutput"
   ]
  },
  {
   "cell_type": "markdown",
   "metadata": {},
   "source": [
    "But this super messy.  Lets make it a function."
   ]
  },
  {
   "cell_type": "code",
   "execution_count": 7,
   "metadata": {
    "collapsed": false
   },
   "outputs": [],
   "source": [
    "def make_cmd(scriptname, filename, args):\n",
    "\n",
    "    singlequote = \"'\"\n",
    "    comma = ','\n",
    "    \n",
    "    # add quotes to the filename\n",
    "    mfilename = '{0}{1}{0}'.format(singlequote, filename)\n",
    "    \n",
    "    firstpart = '{0}('.format(scriptname)\n",
    "    lastpart = ');exit'\n",
    "    \n",
    "    functioncall = firstpart + mfilename\n",
    "    for arg in args:\n",
    "        functioncall += comma + str(arg)\n",
    "    functioncall += lastpart\n",
    "    \n",
    "    cmd = shlex.split('matlab -nodesktop -nodisplay -r')\n",
    "    cmd.append(functioncall)\n",
    "    return cmd"
   ]
  },
  {
   "cell_type": "code",
   "execution_count": 8,
   "metadata": {
    "collapsed": false
   },
   "outputs": [
    {
     "data": {
      "text/plain": [
       "CompletedProcess(args=['matlab', '-nodesktop', '-nodisplay', '-r', \"myscript('myoutput',[ 0.   0.1  0.2  0.3  0.4  0.5  0.6  0.7  0.8  0.9]);exit\"], returncode=0)"
      ]
     },
     "execution_count": 8,
     "metadata": {},
     "output_type": "execute_result"
    }
   ],
   "source": [
    "cmd = make_cmd('myscript', 'myoutput', [x])\n",
    "sp.run(cmd)"
   ]
  },
  {
   "cell_type": "markdown",
   "metadata": {},
   "source": [
    "# 4. GSW"
   ]
  },
  {
   "cell_type": "markdown",
   "metadata": {},
   "source": [
    "Okay, now we are set to use the MATLAB toolbox gsw.  Note info on this toolbox is here: http://www.teos-10.org/pubs/Getting_Started.pdf"
   ]
  },
  {
   "cell_type": "code",
   "execution_count": 9,
   "metadata": {
    "collapsed": true
   },
   "outputs": [],
   "source": [
    "# Some data\n",
    "long = -123\n",
    "lat = 49\n",
    "SP = [ 34.5759,  34.2870,  34.5888,  34.6589,  34.6798,  34.6910,  34.6956 ] \n",
    "t  = [ 19.5076,   3.6302,   1.9533,   1.5661,   1.4848,   1.4989,   1.5919 ] \n",
    "p  = [       0,     1010,     2025,     3045,     4069,     5098,     6131 ] "
   ]
  },
  {
   "cell_type": "code",
   "execution_count": 10,
   "metadata": {
    "collapsed": false
   },
   "outputs": [
    {
     "name": "stdout",
     "output_type": "stream",
     "text": [
      "function [] = mw_gsw_SA_from_SP(filename, SP, p, long, lat)\r\n",
      "  startup()\r\n",
      "  y = gsw_SA_from_SP(SP, p, long, lat)\r\n",
      "  dlmwrite(filename, y, ',')\r\n"
     ]
    }
   ],
   "source": [
    "# our matlab wrapper script\n",
    "!cat mw_gsw_SA_from_SP.m"
   ]
  },
  {
   "cell_type": "code",
   "execution_count": 11,
   "metadata": {
    "collapsed": false
   },
   "outputs": [
    {
     "name": "stdout",
     "output_type": "stream",
     "text": [
      "function [] = startup()\r\n",
      "  addpath /ocean/rich/home/matlab/gsw3\r\n",
      "  addpath /ocean/rich/home/matlab/gsw3/html\r\n",
      "  addpath /ocean/rich/home/matlab/gsw3/library\r\n",
      "  addpath /ocean/rich/home/matlab/gsw3/thermodynamics_from_t\r\n",
      "  addpath /ocean/rich/home/matlab/gsw3/pdf\r\n"
     ]
    }
   ],
   "source": [
    "# our start up script (needs to point to where you installed GSW)\n",
    "!cat startup.m"
   ]
  },
  {
   "cell_type": "code",
   "execution_count": 12,
   "metadata": {
    "collapsed": false
   },
   "outputs": [],
   "source": [
    "filename = 'SA_out'\n",
    "cmd = make_cmd('mw_gsw_SA_from_SP', filename, [SP, p, long, lat])\n",
    "sp.run(cmd)\n",
    "\n",
    "# and get the data out of the file\n",
    "with open(filename, 'r') as fn:\n",
    "    SAs = fn.readline().split(',')\n",
    "    SA = [float(S) for S in SAs]"
   ]
  },
  {
   "cell_type": "markdown",
   "metadata": {},
   "source": [
    "Lets wrap that in a function"
   ]
  },
  {
   "cell_type": "code",
   "execution_count": 13,
   "metadata": {
    "collapsed": true
   },
   "outputs": [],
   "source": [
    "def run_matlab(scriptname, args):\n",
    "    filename = 'temporaryfile'\n",
    "    cmd = make_cmd(scriptname, filename, args)\n",
    "    sp.run(cmd)\n",
    "    with open(filename, 'r') as fn:\n",
    "        strings = fn.readline().split(',')\n",
    "        floats = [float(string) for string in strings]\n",
    "    return floats"
   ]
  },
  {
   "cell_type": "markdown",
   "metadata": {},
   "source": [
    "## and now use it to calculate conservative temperature"
   ]
  },
  {
   "cell_type": "code",
   "execution_count": 14,
   "metadata": {
    "collapsed": false
   },
   "outputs": [
    {
     "name": "stdout",
     "output_type": "stream",
     "text": [
      "function [] = mw_gsw_CT_from_t(filename, SA, t, p)\r\n",
      "  startup()\r\n",
      "  y = gsw_CT_from_t(SA, t, p)\r\n",
      "  dlmwrite(filename, y, ',')\r\n"
     ]
    }
   ],
   "source": [
    "# our wrapper, note how similar it is to the previous one\n",
    "!cat mw_gsw_CT_from_t.m"
   ]
  },
  {
   "cell_type": "code",
   "execution_count": 15,
   "metadata": {
    "collapsed": false
   },
   "outputs": [
    {
     "name": "stdout",
     "output_type": "stream",
     "text": [
      "[19.513, 3.5587, 1.8157, 1.3434, 1.1583, 1.0517, 1.0072]\n"
     ]
    }
   ],
   "source": [
    "CT = run_matlab('mw_gsw_CT_from_t', [SA, t, p])\n",
    "print (CT)"
   ]
  },
  {
   "cell_type": "code",
   "execution_count": null,
   "metadata": {
    "collapsed": true
   },
   "outputs": [],
   "source": []
  }
 ],
 "metadata": {
  "kernelspec": {
   "display_name": "Python 3",
   "language": "python",
   "name": "python3"
  }
 },
 "nbformat": 4,
 "nbformat_minor": 0
}
