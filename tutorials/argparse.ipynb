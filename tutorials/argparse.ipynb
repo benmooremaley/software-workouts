{
 "cells": [
  {
   "cell_type": "markdown",
   "metadata": {},
   "source": [
    "<h1>The <code>argparse</code> Library</h1>"
   ]
  },
  {
   "cell_type": "markdown",
   "metadata": {},
   "source": [
    "<strong>Contents of notebook was put together from material from various links:</strong>\n",
    "\n",
    "<p>\n",
    "<ul>\n",
    "<li>[<strong><code>argparse</code></strong> module docs](https://docs.python.org/3.4/library/argparse.html)</li>\n",
    "<li>Mini [<strong><code>argparse</code></strong> tutorial](https://docs.python.org/2/howto/argparse.html)</li>\n",
    "<li>Python Module of the Week; [PyMOTW blog](http://pymotw.com/2/argparse/)</li>\n",
    "<li><strong><code>argparse</code></strong> [cookbook](https://mkaz.com/2014/07/26/python-argparse-cookbook/)</li>\n",
    "</ul>"
   ]
  },
  {
   "cell_type": "markdown",
   "metadata": {},
   "source": [
    "<h2>What is <code>argparse</code></h2>\n",
    "\n",
    "<p>From the <code>Python</code> docs, the [<strong><code>argparse</code></strong> library](https://docs.python.org/2/library/argparse.html) <em>\"makes it easy to write user-friendly command-line interfaces\"</em>.</p>\n",
    "\n",
    "<p><strong>What does this mean</strong> in a <code>Python</code> program?</p>\n",
    "\n",
    "<ul>\n",
    "<li>User-written program defines what arguments are required</li>\n",
    "<ul>\n",
    "<li><code>argparse</code> figures out how to parse those requirements from <strong><code>sys.argv</code></strong></li>\n",
    "<li><strong><code>[sys.argv](https://docs.python.org/2/library/sys.html#sys.argv)</code></strong>:</li>\n",
    "<ul>\n",
    "<li><em>\"The list of command-line arguments passsed to a <code>Python</code> script\"</em>.</li>\n",
    "</ul>\n",
    "</ul>\n",
    "<pre></pre>\n",
    "<li><strong>Essentially</strong>,</li>\n",
    "<ol>\n",
    "<li>The <strong><code>argparse</code></strong> allows <code>Python</code> programs to be run from the command-line, with user-defined inputs as program requirements (<em>e.g.</em> data files).</li>\n",
    "<li><strong><code>argparse</code></strong> also generates help & usage messages and issues errors when the user gives the program invalid inputs.</li>\n",
    "</ol>\n",
    "<pre></pre>\n",
    "<li>The <strong>general process</strong> of using <strong><code>argparse</code></strong> is as follows,</li>\n",
    "<ol>\n",
    "<li><strong>Set up a Parser by creating a <code>parser</code> object</strong>.</li>\n",
    "<ul>\n",
    "<li>This object tells the program what command-line arguments to expect.</li>\n",
    "<li>Object processes the command-line arguments when the program is run.</li>\n",
    "<li>These objects are of <strong><code>class</code></strong> <strong><code>ArgumentParser</code></strong>.</li>\n",
    "</ul>\n",
    "<pre></pre>\n",
    "<li><strong>Defining arguments</strong>.</li>\n",
    "<ul>\n",
    "<li>Depending on the program written, different arguments can trigger different actions.</li>\n",
    "<li>This is specified by the <strong><code>.add_argument()</code></strong> method, which triggers different actions.</li>\n",
    "<ul>\n",
    "<li>Storing a constant value when the argument is encountered.</li>\n",
    "<li>Printing statistical output.</li>\n",
    "<li>Opening files.</li>\n",
    "<li>Visualizing data within an opened file.</li>\n",
    "</ul>\n",
    "<li>The <strong>default action</strong> is to store the argument value.  If a <code>type</code> is provided, then the argument value is converted to that <code>type</code> (<em>e.g.</em> int, float, str) before it is stored.</li>\n",
    "</ul>\n",
    "<pre></pre>\n",
    "<li><strong>Parsing a command-line</strong>.</li>\n",
    "<ul>\n",
    "<li>When all the arguments are defined with <strong><code>.add_argument()</code></strong>, </li>\n",
    "<ul>\n",
    "<li>The command-line can be parsed by passing a sequence of argument strings to <strong><code>.parse_args()</code></strong></li>\n",
    "</ul>\n",
    "</ul>\n",
    "</ol>\n",
    "</ul>"
   ]
  },
  {
   "cell_type": "markdown",
   "metadata": {},
   "source": [
    "<h2>Basics & applied examples with HOBO data</h2>\n",
    "\n",
    "<a id='first_example'></a>"
   ]
  },
  {
   "cell_type": "code",
   "execution_count": 6,
   "metadata": {
    "collapsed": false
   },
   "outputs": [
    {
     "name": "stdout",
     "output_type": "stream",
     "text": [
      "Overwriting argparse_basics.py\n"
     ]
    }
   ],
   "source": [
    "%%writefile argparse_basics.py\n",
    "\n",
    "import argparse\n",
    "parser = argparse.ArgumentParser()\n",
    "parser.parse_args()"
   ]
  },
  {
   "cell_type": "code",
   "execution_count": 7,
   "metadata": {
    "collapsed": false
   },
   "outputs": [],
   "source": [
    "!python argparse_basics.py"
   ]
  },
  {
   "cell_type": "markdown",
   "metadata": {},
   "source": [
    "<ul>\n",
    "<li>Above program doesn't do anything.</li>\n",
    "<li>When executed from command-line, there is no output, but there are also no errors.</li>\n",
    "</ul>"
   ]
  },
  {
   "cell_type": "markdown",
   "metadata": {},
   "source": [
    "<p><strong>Running the program with a help option.</strong></p>"
   ]
  },
  {
   "cell_type": "markdown",
   "metadata": {},
   "source": [
    "<a id='optional_args'></a>"
   ]
  },
  {
   "cell_type": "code",
   "execution_count": 8,
   "metadata": {
    "collapsed": false
   },
   "outputs": [
    {
     "name": "stdout",
     "output_type": "stream",
     "text": [
      "usage: argparse_basics.py [-h]\r\n",
      "\r\n",
      "optional arguments:\r\n",
      "  -h, --help  show this help message and exit\r\n"
     ]
    }
   ],
   "source": [
    "!python argparse_basics.py --help"
   ]
  },
  {
   "cell_type": "markdown",
   "metadata": {},
   "source": [
    "<ul>\n",
    "<li>Even with a call for a help message, there is still no output.</li>\n",
    "</ul>"
   ]
  },
  {
   "cell_type": "markdown",
   "metadata": {},
   "source": [
    "<strong>Introducing unspecified arguments.</strong>"
   ]
  },
  {
   "cell_type": "code",
   "execution_count": 9,
   "metadata": {
    "collapsed": false
   },
   "outputs": [
    {
     "name": "stdout",
     "output_type": "stream",
     "text": [
      "usage: argparse_basics.py [-h]\r\n",
      "argparse_basics.py: error: unrecognized arguments: 6\r\n"
     ]
    }
   ],
   "source": [
    "!python argparse_basics.py 6"
   ]
  },
  {
   "cell_type": "markdown",
   "metadata": {},
   "source": [
    "<ul>\n",
    "<li>When the <code><strong>6</strong></code> argument is called for, we receive an error as output.</li>\n",
    "<li>This is because the program <code><strong>argparse_basics.py</strong></code> does not have any arguments added.</li>\n",
    "<li>The help (<strong><code>-h</code></strong> or <strong><code>--help</code></strong>) is the only argument that is <em>\"given for free\"</em>.</li>\n",
    "</ul>"
   ]
  },
  {
   "cell_type": "markdown",
   "metadata": {},
   "source": [
    "<strong>Adding arguments (with <code>.add_argument()</code> method)</strong>\n",
    "\n",
    "<p>\n",
    "There are two types of arguments, \n",
    "<ol>\n",
    "<li>Positional arguments.</li>\n",
    "<li>Optional arguments.</li>\n",
    "</ol>\n",
    "</p>"
   ]
  },
  {
   "cell_type": "markdown",
   "metadata": {},
   "source": [
    "<h2>Positional arguments</h2>\n",
    "<a id='positional_args_order'></a>\n",
    "<ul>\n",
    "<li>Positionl arguments are determined/executed by the position they are specified.</li>\n",
    "</ul>"
   ]
  },
  {
   "cell_type": "code",
   "execution_count": 12,
   "metadata": {
    "collapsed": false
   },
   "outputs": [
    {
     "name": "stdout",
     "output_type": "stream",
     "text": [
      "Overwriting argparse_basics.py\n"
     ]
    }
   ],
   "source": [
    "%%writefile argparse_basics.py\n",
    "\n",
    "import argparse\n",
    "\n",
    "parser = argparse.ArgumentParser()\n",
    "parser.add_argument('enter_name')\n",
    "\n",
    "args = parser.parse_args()\n",
    "\n",
    "print 'My name is %s' % args.enter_name"
   ]
  },
  {
   "cell_type": "code",
   "execution_count": 53,
   "metadata": {
    "collapsed": false
   },
   "outputs": [
    {
     "name": "stdout",
     "output_type": "stream",
     "text": [
      "usage: argparse_basics.py [-h] enter_name\r\n",
      "argparse_basics.py: error: too few arguments\r\n"
     ]
    }
   ],
   "source": [
    "!python argparse_basics.py"
   ]
  },
  {
   "cell_type": "markdown",
   "metadata": {},
   "source": [
    "<ul>\n",
    "<li>Here we see receive an error as <code>stdout</code>.</li>\n",
    "<li><strong>Why?</strong></li>\n",
    "</ul>"
   ]
  },
  {
   "cell_type": "markdown",
   "metadata": {},
   "source": [
    "<a id='positional_args'></a>"
   ]
  },
  {
   "cell_type": "code",
   "execution_count": 54,
   "metadata": {
    "collapsed": false
   },
   "outputs": [
    {
     "name": "stdout",
     "output_type": "stream",
     "text": [
      "usage: argparse_basics.py [-h] enter_name\r\n",
      "\r\n",
      "positional arguments:\r\n",
      "  enter_name\r\n",
      "\r\n",
      "optional arguments:\r\n",
      "  -h, --help  show this help message and exit\r\n"
     ]
    }
   ],
   "source": [
    "!python argparse_basics.py --help"
   ]
  },
  {
   "cell_type": "markdown",
   "metadata": {},
   "source": [
    "<p>\n",
    "<ul>\n",
    "<li>The help message confirms we have added a <strong><code>positional argument</code></strong> of <em>\"<code>enter_name</code>\"</em>.</li>\n",
    "<li>Also see <strong><code>optional arguments</code></strong>, too.</li>\n",
    "</ul>\n",
    "</p>\n",
    "\n",
    "<p>\n",
    "<ul>\n",
    "<li>With the addition of positional arguments, running the program through the command-line now requires an input, in this case, <em>\"<code>enter_name</code>\"</em>.</li>\n",
    "<li><em>e.g.</em> <strong><code>usage: argparse_basics.py [-h] enter_name</code></strong> shows that an argument (<strong><code>enter_name</code></strong>) is required.</li>\n",
    "</ul>\n",
    "</p>"
   ]
  },
  {
   "cell_type": "code",
   "execution_count": 14,
   "metadata": {
    "collapsed": false
   },
   "outputs": [
    {
     "name": "stdout",
     "output_type": "stream",
     "text": [
      "My name is Bill\r\n"
     ]
    }
   ],
   "source": [
    "!python argparse_basics.py Bill"
   ]
  },
  {
   "cell_type": "markdown",
   "metadata": {},
   "source": [
    "<strong>Running the program with additional input</strong>"
   ]
  },
  {
   "cell_type": "code",
   "execution_count": null,
   "metadata": {
    "collapsed": true
   },
   "outputs": [],
   "source": [
    "%%writefile argparse_basics.py\n",
    "\n",
    "import argparse\n",
    "\n",
    "parser = argparse.ArgumentParser()\n",
    "parser.add_argument('enter_name')\n",
    "\n",
    "args = parser.parse_args()\n",
    "\n",
    "print 'My name is %s' % args.enter_name.upper()"
   ]
  },
  {
   "cell_type": "code",
   "execution_count": 15,
   "metadata": {
    "collapsed": false
   },
   "outputs": [
    {
     "name": "stdout",
     "output_type": "stream",
     "text": [
      "My name is Bill\r\n"
     ]
    }
   ],
   "source": [
    "!python argparse_basics.py Bill"
   ]
  },
  {
   "cell_type": "markdown",
   "metadata": {},
   "source": [
    "<ul>\n",
    "<li>The <strong><code>.parse_args()</code></strong> method returns the data from the input requirements specified in the command-line.</li>\n",
    "<li>In this case <em>\"enter_name\"</em>.</li>\n",
    "<li>The variable <strong><code>args</code></strong> (in this case) is directly connected to the <strong>positional argument</strong> that the parser object has defined.</li>\n",
    "<ul>\n",
    "<li><em>e.g.</em> The variable name <strong>matches</strong> the <code>string</code> argument given to the <strong><code>.add_argument()</code></strong> method (<em>i.e.</em> <em>\"enter_name\"</em>).</li>\n",
    "</ul>\n",
    "<li>Recall when the program was run with the [<strong><code>--help</code></strong> flag](#positional_args), it stated a positional argument, <strong>but</strong> it doesn't state the functionality of the positional argument!</li>\n",
    "<ul>\n",
    "<li>The function of a positional argument can be added, with the <strong><code>help</code></strong> parameter in the <code>.add_argument()</code> method.</li>\n",
    "</ul>\n",
    "</ul>"
   ]
  },
  {
   "cell_type": "markdown",
   "metadata": {},
   "source": [
    "<strong>Adding more functionality to the <code>--help</code> flags</strong>"
   ]
  },
  {
   "cell_type": "code",
   "execution_count": 70,
   "metadata": {
    "collapsed": false
   },
   "outputs": [
    {
     "name": "stdout",
     "output_type": "stream",
     "text": [
      "Overwriting argparse_basics.py\n"
     ]
    }
   ],
   "source": [
    "%%writefile argparse_basics.py\n",
    "\n",
    "import argparse\n",
    "\n",
    "parser = argparse.ArgumentParser()\n",
    "parser.add_argument('enter_name', help = 'Prints the name typed', \n",
    "                    type = str)\n",
    "\n",
    "args = parser.parse_args()\n",
    "\n",
    "print 'My name is %s' % str(args.enter_name.upper())"
   ]
  },
  {
   "cell_type": "code",
   "execution_count": 71,
   "metadata": {
    "collapsed": false
   },
   "outputs": [
    {
     "name": "stdout",
     "output_type": "stream",
     "text": [
      "usage: argparse_basics.py [-h] enter_name\r\n",
      "\r\n",
      "positional arguments:\r\n",
      "  enter_name  Prints the name typed, in caps\r\n",
      "\r\n",
      "optional arguments:\r\n",
      "  -h, --help  show this help message and exit\r\n"
     ]
    }
   ],
   "source": [
    "!python argparse_basics.py --help"
   ]
  },
  {
   "cell_type": "markdown",
   "metadata": {},
   "source": [
    "<h4>Optional Arguments</h4>"
   ]
  },
  {
   "cell_type": "markdown",
   "metadata": {},
   "source": [
    "<p>\n",
    "<ul>\n",
    "<li>[From before](#optional_args), we see that the <strong><code>--help</code></strong> flag is an <strong>optional argument</strong>.</li>\n",
    "<li>Optional arguments will only influence the program written when they are called on.  If not, then there will be no action.</li>\n",
    "<ul>\n",
    "<li>Recall the [first example](#first_example), where nothing was displayed when the program was run.</li>\n",
    "<li><strong>But</strong>, when it was run with the <strong><code>--help</code></strong> flag, help messages were produced as an output.</li>\n",
    "</ul>\n",
    "</ul>\n",
    "</p>"
   ]
  },
  {
   "cell_type": "code",
   "execution_count": 87,
   "metadata": {
    "collapsed": false
   },
   "outputs": [
    {
     "name": "stdout",
     "output_type": "stream",
     "text": [
      "Overwriting argparse_basics.py\n"
     ]
    }
   ],
   "source": [
    "%%writefile argparse_basics.py\n",
    "\n",
    "import argparse\n",
    "\n",
    "parser = argparse.ArgumentParser()\n",
    "parser.add_argument('enter_name', help = 'Prints the name typed, in caps', \n",
    "                    type = str)\n",
    "parser.add_argument('age', help = 'Prints given age', \n",
    "                    type = int)\n",
    "\n",
    "args = parser.parse_args()\n",
    "\n",
    "print 'Name:  %s' % str(args.enter_name)\n",
    "print 'Age squared:  %d' % args.age ** 2"
   ]
  },
  {
   "cell_type": "code",
   "execution_count": 92,
   "metadata": {
    "collapsed": false
   },
   "outputs": [
    {
     "name": "stdout",
     "output_type": "stream",
     "text": [
      "Name:  Bill\r\n",
      "Age squared:  99980001\r\n"
     ]
    }
   ],
   "source": [
    "!python argparse_basics.py Bill 9999"
   ]
  },
  {
   "cell_type": "markdown",
   "metadata": {},
   "source": [
    "<strong>What happens if we try to switch the positional arguments around?</strong>"
   ]
  },
  {
   "cell_type": "code",
   "execution_count": 91,
   "metadata": {
    "collapsed": false
   },
   "outputs": [
    {
     "name": "stdout",
     "output_type": "stream",
     "text": [
      "usage: argparse_basics.py [-h] enter_name age\r\n",
      "argparse_basics.py: error: argument age: invalid int value: 'Bill'\r\n"
     ]
    }
   ],
   "source": [
    "!python argparse_basics.py 29 Bill"
   ]
  },
  {
   "cell_type": "markdown",
   "metadata": {},
   "source": [
    "<ul>\n",
    "<li>[Recall](#positional_args_order) that positional arguments are executed based on the order in which they are added (<em>i.e.</em> in what order they are specified, with <strong><code>.add_argument()</code></strong>).</li>\n",
    "<li>In this case, the 2nd argument, \"Bill\" is clearly <strong>not</strong> an integer data-type, as we've specified, resulting in an error output.</li>\n",
    "</ul>"
   ]
  },
  {
   "cell_type": "markdown",
   "metadata": {},
   "source": [
    "<h2>Applications with HOBO data</h2>"
   ]
  },
  {
   "cell_type": "code",
   "execution_count": 134,
   "metadata": {
    "collapsed": false
   },
   "outputs": [
    {
     "name": "stdout",
     "output_type": "stream",
     "text": [
      "Overwriting argparse_hobo.py\n"
     ]
    }
   ],
   "source": [
    "%%writefile argparse_hobo.py\n",
    "\n",
    "if __name__ == '__main__':\n",
    "    '''Applied example of argparse with HOBO data.'''\n",
    "    \n",
    "    import argparse as ag\n",
    "    import os\n",
    "    import datetime as dt\n",
    "    \n",
    "    path2data = '/Users/kangwang/Documents/SWC/argparse/'\n",
    "    file_name = 'hobo_data_1m.csv'\n",
    "    \n",
    "    parser = ag.ArgumentParser(prog = 'Prog. to manipulate & visualize HOBO data.')\n",
    "    \n",
    "    args = parser.parse_args()"
   ]
  },
  {
   "cell_type": "code",
   "execution_count": 135,
   "metadata": {
    "collapsed": true
   },
   "outputs": [],
   "source": [
    "!python argparse_hobo.py"
   ]
  },
  {
   "cell_type": "code",
   "execution_count": 136,
   "metadata": {
    "collapsed": false
   },
   "outputs": [
    {
     "name": "stdout",
     "output_type": "stream",
     "text": [
      "usage: Prog. to manipulate & visualize HOBO data. [-h]\r\n",
      "\r\n",
      "optional arguments:\r\n",
      "  -h, --help  show this help message and exit\r\n"
     ]
    }
   ],
   "source": [
    "!python argparse_hobo.py --help"
   ]
  },
  {
   "cell_type": "markdown",
   "metadata": {},
   "source": [
    "<h3>Introducing Positional Arguments</h3>"
   ]
  },
  {
   "cell_type": "code",
   "execution_count": 143,
   "metadata": {
    "collapsed": false
   },
   "outputs": [
    {
     "name": "stdout",
     "output_type": "stream",
     "text": [
      "Overwriting argparse_hobo.py\n"
     ]
    }
   ],
   "source": [
    "%%writefile argparse_hobo.py\n",
    "\n",
    "if __name__ == '__main__':\n",
    "    '''Applied example of argparse with HOBO data.'''\n",
    "    \n",
    "    import argparse as ag\n",
    "    import os\n",
    "    import datetime as dt\n",
    "    import pandas as pd\n",
    "    \n",
    "    path2data = '/Users/kangwang/Documents/SWC/argparse/'\n",
    "    file_name = 'hobo_data_1m.csv'\n",
    "    \n",
    "    ##  Creating Parser object:\n",
    "    parser = ag.ArgumentParser(prog = 'Prog. to manipulate & visualize HOBO data.')\n",
    "    \n",
    "    ##  Defining Arguments:\n",
    "    parser.add_argument('file2import', help = 'Name of file to import, with extension, or full pathway.', \n",
    "                        type = str)\n",
    "    \n",
    "    args = parser.parse_args()"
   ]
  },
  {
   "cell_type": "code",
   "execution_count": 144,
   "metadata": {
    "collapsed": false
   },
   "outputs": [
    {
     "name": "stdout",
     "output_type": "stream",
     "text": [
      "usage: Prog. to manipulate & visualize HOBO data. [-h] file2import\r\n",
      "\r\n",
      "positional arguments:\r\n",
      "  file2import  Name of file to import, with extension, or full pathway.\r\n",
      "\r\n",
      "optional arguments:\r\n",
      "  -h, --help   show this help message and exit\r\n"
     ]
    }
   ],
   "source": [
    "!python argparse_hobo.py -h"
   ]
  },
  {
   "cell_type": "markdown",
   "metadata": {},
   "source": [
    "<h3>Importing HOBO data</h3>"
   ]
  },
  {
   "cell_type": "code",
   "execution_count": 147,
   "metadata": {
    "collapsed": false
   },
   "outputs": [
    {
     "name": "stdout",
     "output_type": "stream",
     "text": [
      "Overwriting argparse_hobo.py\n"
     ]
    }
   ],
   "source": [
    "%%writefile argparse_hobo.py\n",
    "\n",
    "if __name__ == '__main__':\n",
    "    '''Applied example of argparse with HOBO data.'''\n",
    "    \n",
    "    import argparse as ag\n",
    "    import os\n",
    "    import datetime as dt\n",
    "    \n",
    "    import pandas as pd\n",
    "    \n",
    "    ##  Creating Parser object:\n",
    "    parser = ag.ArgumentParser(prog = 'Prog. to manipulate & visualize HOBO data.')\n",
    "    \n",
    "    ##  Defining Arguments:\n",
    "    parser.add_argument('file2import', help = 'Name of file to import, with extension, or full pathway.', \n",
    "                        type = str)\n",
    "    \n",
    "    ##  Parsing command-line:\n",
    "    args = parser.parse_args()\n",
    "    \n",
    "    ##  Importing HOBO data:\n",
    "    hobo = pd.read_csv(args.file2import, sep = ',')\n",
    "    \n",
    "    ##  Print 1st 5 rows of imported data frame:\n",
    "    print hobo.head(5)"
   ]
  },
  {
   "cell_type": "code",
   "execution_count": 149,
   "metadata": {
    "collapsed": false
   },
   "outputs": [
    {
     "name": "stdout",
     "output_type": "stream",
     "text": [
      "   Obs              Date Time    Temp\r\n",
      "0    1  01/18/11 07:20:35  AM  17.177\r\n",
      "1    2  01/18/11 07:20:41  AM     NaN\r\n",
      "2    3  01/18/11 08:20:35  AM  17.391\r\n",
      "3    4  01/18/11 09:20:35  AM   9.608\r\n",
      "4    5  01/18/11 10:20:35  AM   6.128\r\n"
     ]
    }
   ],
   "source": [
    "!python argparse_hobo.py hobo_data_1m.csv"
   ]
  },
  {
   "cell_type": "markdown",
   "metadata": {},
   "source": [
    "<h3>Visualizing raw HOBO data</h3>\n",
    "\n",
    "<ul>\n",
    "<li>Note that HOBO data is a collection of hourly measurements for each day.</li>\n",
    "<li>This can be quite messy if the raw data for multiple days, were plotted.</li>\n",
    "</ul>"
   ]
  },
  {
   "cell_type": "code",
   "execution_count": 3,
   "metadata": {
    "collapsed": false
   },
   "outputs": [
    {
     "name": "stdout",
     "output_type": "stream",
     "text": [
      "Writing argparse_hobo1.py\n"
     ]
    }
   ],
   "source": [
    "%%writefile argparse_hobo1.py\n",
    "\n",
    "if __name__ == '__main__':\n",
    "    '''Applied example of argparse with HOBO data.'''\n",
    "    \n",
    "    import argparse as ag\n",
    "    import os\n",
    "    import datetime as dt\n",
    "    \n",
    "    import pandas as pd\n",
    "    import matplotlib.pyplot as plt\n",
    "    \n",
    "    from matplotlib import rc\n",
    "    \n",
    "    ##  Creating Parser object:\n",
    "    parser = ag.ArgumentParser(prog = 'Prog. to manipulate & visualize HOBO data.')\n",
    "    \n",
    "    ##  Defining Arguments:\n",
    "    parser.add_argument('file2import', help = 'Name of file to import, with extension, or full pathway.', \n",
    "                        type = str)\n",
    "    \n",
    "    ##  Parsing command-line:\n",
    "    args = parser.parse_args()\n",
    "    \n",
    "    ##  Importing HOBO data:\n",
    "    hobo = pd.read_csv(args.file2import, sep = ',')\n",
    "    \n",
    "    ##  Visualizations\n",
    "    savefig2file = '/Users/kangwang/Documents/SWC/argparse/figs/'\n",
    "    \n",
    "    ##  Initial Visualization:\n",
    "    rc('font', family = 'serif')\n",
    "    \n",
    "    fig = plt.figure()\n",
    "    fig.set_figwidth(12)\n",
    "    fig.set_figheight(10)\n",
    "    \n",
    "    axs = fig.add_subplot(111)\n",
    "    \n",
    "    ##  Setting up dates & data:\n",
    "    TT = hobo ['Temp']\n",
    "    yy, mm, dd = [], [], []\n",
    "    hh, mn, ss = [], [], []\n",
    "    for tstamp in pd.to_datetime(hobo['Date Time']):\n",
    "        yy.append(tstamp.year)\n",
    "        mm.append(tstamp.month)\n",
    "        dd.append(tstamp.day)\n",
    "        hh.append(tstamp.hour)\n",
    "        mn.append(tstamp.minute)\n",
    "        ss.append(tstamp.second)\n",
    "    t = []\n",
    "    for year, month, day, hour, minute, second in zip(yy, mm, dd, hh, mn, ss):\n",
    "        t.append(dt.datetime(year, month, day, hour, minute, second))\n",
    "        \n",
    "    ##  Visualizations:\n",
    "    for ax in fig.get_axes():\n",
    "        ax.plot(t, TT, 'o', color = 'r', alpha = 0.15, ms = 10.2)\n",
    "        ax.set_ylabel('Temperature @ 1m Depth\\n($^\\circ$C)', fontsize = 18, \n",
    "                      color = 'r')\n",
    "        ax.set_title('HOBO Temperature Logger\\n(hourly)\\n', fontsize = 20, \n",
    "                     color = 'darkblue')\n",
    "        ax.grid(True)\n",
    "        for xlabels in ax.get_xticklabels():\n",
    "            xlabels.set_fontsize(17)\n",
    "            xlabels.set_color('darkblue')\n",
    "            xlabels.set_rotation(25)\n",
    "        for ylabels in ax.get_yticklabels():\n",
    "            ylabels.set_fontsize(17)\n",
    "            ylabels.set_color('r')\n",
    "    \n",
    "    fig.savefig(savefig2file + 'hobo_raw' + '.png')"
   ]
  },
  {
   "cell_type": "code",
   "execution_count": 2,
   "metadata": {
    "collapsed": false,
    "scrolled": false
   },
   "outputs": [],
   "source": [
    "!python argparse_hobo1.py hobo_data_1m.csv"
   ]
  },
  {
   "cell_type": "markdown",
   "metadata": {},
   "source": [
    "<h3>Calculating Daily Averages</h3>"
   ]
  },
  {
   "cell_type": "code",
   "execution_count": 4,
   "metadata": {
    "collapsed": false
   },
   "outputs": [
    {
     "name": "stdout",
     "output_type": "stream",
     "text": [
      "Writing argparse_hobo2.py\n"
     ]
    }
   ],
   "source": [
    "%%writefile argparse_hobo2.py\n",
    "\n",
    "def get_avg_TT_by_month_day(HOBO_df):\n",
    "    '''\n",
    "    Routine to extract the daily average temperature from HOBO-Logger Data.\n",
    "    \n",
    "    With the re-configured Data Frame, there are two ways we can extract the \n",
    "    daily-average TT values.\n",
    "    \n",
    "        1. Using traditional for-loops & Conditioning.\n",
    "        2. Utilizing the 'groupby()' function in the Pandas library.\n",
    "        \n",
    "    This version of the routine calculates the daily averges using the\n",
    "    traditional for-loop flow control, although this method may get a little\n",
    "    messy and chunky.\n",
    "    \n",
    "    INPUTS:\n",
    "    \n",
    "        1. HOBO_data : - A dictionary of differing HOBO-Logger datasets.\n",
    "                       - Dict can be of any length.\n",
    "                       - To access a specific HOBO dataset, simply input the \n",
    "                         file name of that dataset as the key to the dictionary.\n",
    "                       - The HOBO_data keys will be looped through and the data\n",
    "                         will be reconfigured with the CONFIG_HOBO_DATA() function.\n",
    "                       - Once reformatted, the \n",
    "    '''\n",
    "    import pandas as pd\n",
    "    import numpy as np\n",
    "    \n",
    "    ##  1. Definition to reorganize original data.frame \n",
    "    def config_HOBO_data(HOBO_df):\n",
    "        '''\n",
    "        Routine to re-organize original HOBO dataframe imported to \n",
    "        one that is organized by:\n",
    "    \n",
    "        1. DateTime\n",
    "        2. Year\n",
    "        3. Month number\n",
    "        4. Day number\n",
    "        5. Temperature\n",
    "    \n",
    "        By re-organizing the temperatue data to this format, it will \n",
    "        be easier to average all the temperature recordings for each day \n",
    "        of each month.\n",
    "    \n",
    "        Input:\n",
    "            - 'HOBO_df': The original data frame of HOBO data, imported.\n",
    "        '''\n",
    "        import datetime\n",
    "        import pandas as pd\n",
    "    \n",
    "        ##  > Parsing time Stamps from original HOBO data:\n",
    "        yy, mm, dd = [], [], []  ##  year, month, day\n",
    "        hh, mn, ss = [], [], []  ##  hour, minute, second\n",
    "        gmt_time = ['Date Time']\n",
    "        for gmt in gmt_time:\n",
    "            if gmt in HOBO_df.columns.values:\n",
    "                for time_stamp in pd.to_datetime(HOBO_df[gmt]):\n",
    "                    yy.append(time_stamp.year)\n",
    "                    mm.append(time_stamp.month)\n",
    "                    dd.append(time_stamp.day)\n",
    "                    hh.append(time_stamp.hour)\n",
    "                    mn.append(time_stamp.minute)\n",
    "                    ss.append(time_stamp.second)\n",
    "                t = []\n",
    "                for year, month, day, hour, minute, second in zip(yy, mm, dd, hh, mn, ss):\n",
    "                    t.append(datetime.datetime(year, month, day, hour, minute, second))\n",
    "        ##  > Organize a new dictionary of data fields to be included in newly \n",
    "        ##    configured data frame.\n",
    "        data_fields = {\n",
    "            'DateTime' : t, \n",
    "            'Year' : yy, \n",
    "            'Month' : mm, \n",
    "            'Day' : dd, \n",
    "            'Hour' : hh, \n",
    "            'Minute' : mn, \n",
    "            'Second' : ss, \n",
    "            'Temperature' : HOBO_df['Temp']\n",
    "        }\n",
    "        ##  > Creating newly configured data frame object:\n",
    "        reconfig_hobo_df = pd.DataFrame(data_fields) \n",
    "        return reconfig_hobo_df\n",
    "    ##\n",
    "    ##  Using the 'groupby()' from Pandas and the lambda function, we can \n",
    "    ##  create a Pandas Series of the Daily Average Temperatures for each month and day:\n",
    "    ##\n",
    "    configured_hobo_df = config_HOBO_data(HOBO_df)\n",
    "    daily_avg_TT_by_month_day = configured_hobo_df.groupby('Year').apply(lambda x: x.groupby('Month').apply(lambda x: x.groupby('Day').agg(np.mean)))\n",
    "    ##\n",
    "    ##  The above statement returns HOBO_daily_avg_TT_df as a \n",
    "    ##  Pandas Data Frame object with daily average temperature values by day and month.\n",
    "    ##\n",
    "    return daily_avg_TT_by_month_day\n",
    "\n",
    "if __name__ == '__main__':\n",
    "    '''Applied example of argparse with HOBO data.'''\n",
    "    \n",
    "    import argparse as ag\n",
    "    import os\n",
    "    import datetime as dt\n",
    "    \n",
    "    import pandas as pd\n",
    "    import matplotlib.pyplot as plt\n",
    "    \n",
    "    from matplotlib import rc\n",
    "\n",
    "    parser = ag.ArgumentParser(prog = 'Prog. to manipulate & visualize HOBO data.')\n",
    "    parser.add_argument('file2import', help = 'Name of file to import, with extension, or full pathway.', \n",
    "                        type = str)\n",
    "    args = parser.parse_args()\n",
    "\n",
    "    hobo = pd.read_csv(args.file2import, sep = ',')\n",
    "    hobo2 = get_avg_TT_by_month_day(hobo)\n",
    "    \n",
    "    TT_raw = hobo['Temp']\n",
    "    TT_avg = hobo2['Temperature']\n",
    "    \n",
    "    yy, mm, dd = [], [], []\n",
    "    hh, mn, ss = [], [], []\n",
    "    for tstamp in pd.to_datetime(hobo['Date Time']):\n",
    "        yy.append(tstamp.year)\n",
    "        mm.append(tstamp.month)\n",
    "        dd.append(tstamp.day)\n",
    "        hh.append(tstamp.hour)\n",
    "        mn.append(tstamp.minute)\n",
    "        ss.append(tstamp.second)\n",
    "    dates_times = []\n",
    "    dates = []\n",
    "    for year, month, day, hour, minute, second in zip(yy, mm, dd, hh, mn, ss):\n",
    "        dates_times.append(dt.datetime(year, month, day, hour, minute, second))\n",
    "        dates.append(dt.date(year, month, day))\n",
    "    \n",
    "    savefig_path = '/Users/kangwang/Documents/SWC/argparse/figs/'\n",
    "    fig_name = 'hobo_daily_avg.png'\n",
    "    rc('font', family = 'serif')\n",
    "    fig = plt.figure()\n",
    "    fig.set_figwidth(15)\n",
    "    fig.set_figheight(10)\n",
    "    axs = fig.add_subplot(111)\n",
    "    \n",
    "    for ax in fig.get_axes():\n",
    "        ax.plot(dates_times, TT_raw, 'ro', ms = 10.8, alpha = 0.3, \n",
    "                label = 'Hourly Measurements')\n",
    "        ax.plot(pd.unique(dates), TT_avg, 'k-', lw = 2.8, \n",
    "                label = 'Daily Average')\n",
    "        ax.grid(True)\n",
    "        ax.set_ylabel('Sea-Water\\nTemperature ($^\\circ$C)', fontsize = 18, color = 'r')\n",
    "        ax.set_title('HOBO Temperature Loggers\\n(hourly measurements @ 1 m depth)\\n', \n",
    "                     fontsize = 20, color = 'darkblue')\n",
    "        ax.legend(loc = 4, prop = {'size' : 16})\n",
    "        ax.set_xticklabels(pd.unique(dates), ha = 'right')\n",
    "        for xlabels in ax.get_xticklabels():\n",
    "            xlabels.set_color('darkblue')\n",
    "            xlabels.set_fontsize(17)\n",
    "            xlabels.set_rotation(25)\n",
    "        for ylabels in ax.get_yticklabels():\n",
    "            ylabels.set_fontsize(17)\n",
    "            ylabels.set_color('r')\n",
    "        \n",
    "    fig.savefig(savefig_path + fig_name)"
   ]
  },
  {
   "cell_type": "code",
   "execution_count": 265,
   "metadata": {
    "collapsed": false
   },
   "outputs": [],
   "source": [
    "!python argparse_hobo2.py hobo_data_1m.csv"
   ]
  },
  {
   "cell_type": "code",
   "execution_count": 1,
   "metadata": {
    "collapsed": false
   },
   "outputs": [
    {
     "name": "stdout",
     "output_type": "stream",
     "text": [
      "Writing get_avg_TT_by_month_day.py\n"
     ]
    }
   ],
   "source": [
    "%%writefile get_avg_TT_by_month_day.py \n",
    "\n",
    "def get_avg_TT_by_month_day(HOBO_df):\n",
    "    '''\n",
    "    Routine to extract the daily average temperature from HOBO-Logger Data.\n",
    "    \n",
    "    With the re-configured Data Frame, there are two ways we can extract the \n",
    "    daily-average TT values.\n",
    "    \n",
    "        1. Using traditional for-loops & Conditioning.\n",
    "        2. Utilizing the 'groupby()' function in the Pandas library.\n",
    "        \n",
    "    This version of the routine calculates the daily averges using the\n",
    "    traditional for-loop flow control, although this method may get a little\n",
    "    messy and chunky.\n",
    "    \n",
    "    INPUTS:\n",
    "    \n",
    "        1. HOBO_data : - A dictionary of differing HOBO-Logger datasets.\n",
    "                       - Dict can be of any length.\n",
    "                       - To access a specific HOBO dataset, simply input the \n",
    "                         file name of that dataset as the key to the dictionary.\n",
    "                       - The HOBO_data keys will be looped through and the data\n",
    "                         will be reconfigured with the CONFIG_HOBO_DATA() function.\n",
    "                       - Once reformatted, the \n",
    "    '''\n",
    "    import pandas as pd\n",
    "    import numpy as np\n",
    "    \n",
    "    ##  1. Definition to reorganize original data.frame \n",
    "    def config_HOBO_data(HOBO_df):\n",
    "        '''\n",
    "        Routine to re-organize original HOBO dataframe imported to \n",
    "        one that is organized by:\n",
    "    \n",
    "        1. DateTime\n",
    "        2. Year\n",
    "        3. Month number\n",
    "        4. Day number\n",
    "        5. Temperature\n",
    "    \n",
    "        By re-organizing the temperatue data to this format, it will \n",
    "        be easier to average all the temperature recordings for each day \n",
    "        of each month.\n",
    "    \n",
    "        Input:\n",
    "            - 'HOBO_df': The original data frame of HOBO data, imported.\n",
    "        '''\n",
    "        import datetime\n",
    "        import pandas as pd\n",
    "    \n",
    "        ##  > Parsing time Stamps from original HOBO data:\n",
    "        yy, mm, dd = [], [], []  ##  year, month, day\n",
    "        hh, mn, ss = [], [], []  ##  hour, minute, second\n",
    "        gmt_time = ['Date Time']\n",
    "        for gmt in gmt_time:\n",
    "            if gmt in HOBO_df.columns.values:\n",
    "                for time_stamp in pd.to_datetime(HOBO_df[gmt]):\n",
    "                    yy.append(time_stamp.year)\n",
    "                    mm.append(time_stamp.month)\n",
    "                    dd.append(time_stamp.day)\n",
    "                    hh.append(time_stamp.hour)\n",
    "                    mn.append(time_stamp.minute)\n",
    "                    ss.append(time_stamp.second)\n",
    "                t = []\n",
    "                for year, month, day, hour, minute, second in zip(yy, mm, dd, hh, mn, ss):\n",
    "                    t.append(datetime.datetime(year, month, day, hour, minute, second))\n",
    "        ##  > Organize a new dictionary of data fields to be included in newly \n",
    "        ##    configured data frame.\n",
    "        data_fields = {\n",
    "            'DateTime' : t, \n",
    "            'Year' : yy, \n",
    "            'Month' : mm, \n",
    "            'Day' : dd, \n",
    "            'Hour' : hh, \n",
    "            'Minute' : mn, \n",
    "            'Second' : ss, \n",
    "            'Temperature' : HOBO_df['Temp']\n",
    "        }\n",
    "        ##  > Creating newly configured data frame object:\n",
    "        reconfig_hobo_df = pd.DataFrame(data_fields) \n",
    "        return reconfig_hobo_df\n",
    "    ##\n",
    "    ##  Using the 'groupby()' from Pandas and the lambda function, we can \n",
    "    ##  create a Pandas Series of the Daily Average Temperatures for each month and day:\n",
    "    ##\n",
    "    configured_hobo_df = config_HOBO_data(HOBO_df)\n",
    "    daily_avg_TT_by_month_day = configured_hobo_df.groupby('Year').apply(lambda x: x.groupby('Month').apply(lambda x: x.groupby('Day').agg(np.mean)))\n",
    "    ##\n",
    "    ##  The above statement returns HOBO_daily_avg_TT_df as a \n",
    "    ##  Pandas Data Frame object with daily average temperature values by day and month.\n",
    "    ##\n",
    "    return daily_avg_TT_by_month_day"
   ]
  }
 ],
 "metadata": {
  "kernelspec": {
   "display_name": "Python 2",
   "language": "python",
   "name": "python2"
  },
  "language_info": {
   "codemirror_mode": {
    "name": "ipython",
    "version": 2
   },
   "file_extension": ".py",
   "mimetype": "text/x-python",
   "name": "python",
   "nbconvert_exporter": "python",
   "pygments_lexer": "ipython2",
   "version": "2.7.9"
  }
 },
 "nbformat": 4,
 "nbformat_minor": 0
}
