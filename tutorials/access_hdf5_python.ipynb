{
 "metadata": {
  "name": "",
  "signature": "sha256:ad9f4c68ddba2ca1959cc0ca7feb3d42145cc3ed37c3d5a0376de78a6bc2049c"
 },
 "nbformat": 3,
 "nbformat_minor": 0,
 "worksheets": [
  {
   "cells": [
    {
     "cell_type": "markdown",
     "metadata": {},
     "source": [
      "<h1>Python & <code>HDF5</code> (Hierarchical Data Format)</h1>\n",
      "\n",
      "<p><strong>Link to Kyle's [Bitbucket Repo](https://bitbucket.org/yingkaisha/python-in-remote-sensing/src/tip/_libs/) and some [testing data-sets](https://bitbucket.org/yingkaisha/python-in-remote-sensing/src/tip/_data/_demos/)</strong></p>"
     ]
    },
    {
     "cell_type": "markdown",
     "metadata": {},
     "source": [
      "<strong>Links to <strong><code>HDF5</code></strong> & Python</strong>\n",
      "\n",
      "<p>\n",
      "<ul>\n",
      "<li>http://www.hdfgroup.org/HDF5/whatishdf5.html</li>\n",
      "<li>http://www.nersc.gov/users/software/programming-libraries/io-libraries/hdf5/</li>\n",
      "<li>http://docs.h5py.org/en/latest/</li>\n",
      "</ul>\n",
      "</p>"
     ]
    },
    {
     "cell_type": "markdown",
     "metadata": {},
     "source": [
      "<h5>To use <strong><code>HDF5</code></strong> & Python, you'll need to install 2 libraries/packages from the Anaconda distribuion.</h5>\n",
      "\n",
      "<p>\n",
      "Type the following commands into the <code>terminal</code> prompt.\n",
      "</p>\n",
      "\n",
      "```shell\n",
      "conda install hdf5\n",
      "conda install h5py\n",
      "```"
     ]
    },
    {
     "cell_type": "markdown",
     "metadata": {},
     "source": [
      "<h2>The <code>HDF5</code> File Structure</h2>"
     ]
    },
    {
     "cell_type": "markdown",
     "metadata": {},
     "source": [
      "<p>\n",
      "The 3 components of an <strong><code>HDF5</code></strong> file (files appended with a \"<strong><code>.h5</code></strong>\").\n",
      "</p>\n",
      "\n",
      "<ol>\n",
      "<li><strong><code>Datasets</code></strong></li>\n",
      "<ul>\n",
      "<li>Array-like objects</li>\n",
      "<li>Stores numerical data on disk</li>\n",
      "</ul>\n",
      "<li><strong><code>Groups</code></strong></li>\n",
      "<ul>\n",
      "<li>Hierarchical containers (<em>e.g.</em> like a file system)</li>\n",
      "<li>Stores <code>datasets</code> and other <code>groups</code>\n",
      "</ul>\n",
      "<li><strong><code>Attributes</code></strong></li>\n",
      "<ul>\n",
      "<li>User-defined <em>metadata</em></li>\n",
      "<li>Can be attached to <code>datasets</code> (and <code>groups</code>)</li>\n",
      "</ul>\n",
      "</ol>\n",
      "\n",
      "<p>\n",
      "<strong>Primary benefits of <code>HDF5</code>-files:</strong>\n",
      "<ul>\n",
      "<li>Organization in hierarchical <code>Groups</code> and <code>Attributes</code>.</li>\n",
      "<li><code>Groups</code> act like folders, allowing related <code>datasets</code> to be stored together.</li>\n",
      "<li><code>Attributes</code> allows the direct attachement of <em>metadata</em> to the actual data they describe.</li>\n",
      "</ul>\n",
      "</p>"
     ]
    },
    {
     "cell_type": "markdown",
     "metadata": {},
     "source": [
      "<h2>Example of creating <code>HDF5</code> files (taken from book 'Python and <code>HDF5</code>')</h2>\n",
      "<h5>Creation of <code>HDF5</code> files shows the organizational structure...</h5>\n",
      "\n",
      "```Python\n",
      "import h5py \n",
      "\n",
      ">>> f = h5py.File(\"weather_data.h5\")\n",
      "\n",
      ">>> f[\"/15/Temperature\"] = temperature_station15\n",
      ">>> f[\"/15/Temperature\"].attrs[\"dt\"] = 10.0\n",
      ">>> f[\"/15/Temperature\"].attrs[\"startTime\"] = 1375204299\n",
      "\n",
      ">>> f[\"/15/Wind\"] = wind\n",
      ">>> f[\"/15/Wind\"].attrs[\"dt\"] = 5.0\n",
      "\n",
      ">>> f[\"/20/Temperature\"] = temperature_station20\n",
      "```\n",
      "<p>\n",
      "In the above code-chunk:\n",
      "<ul>\n",
      "<li>the <code>/15/...</code> is similar to a folder system on a computer.</li>\n",
      "<ul>\n",
      "<li><em>e.g.</em> All of the data related to <code>/15/...</code> is stored under the <code>/15/...</code> (<em>e.g.</em> Temperature & Wind).</li>\n",
      "</ul>\n",
      "</ul>\n",
      "</p>\n",
      "\n",
      "<p>\n",
      "Similarly, accessing the <em>metadata</em> <code>attributes</code> can be done in the following way...\n",
      "</p>\n",
      "\n",
      "```python\n",
      ">>> dataset = f[\"15/Temperature\"]\n",
      ">>> for key, value in dataset.attr.iteritems():\n",
      "        print \"%s: %s\" % (key, value)\n",
      "        \n",
      "    dt: 10.0\n",
      "    start_time = 1375204299\n",
      "```\n",
      "\n",
      "<p>\n",
      "<ul>\n",
      "<li><em>Metadata</em> is stored in the <code>attr</code> attribute of a dataset, which is a <code>dictionary</code> with <code>key-value</code> pairs.</li>\n",
      "</ul>\n",
      "</p>"
     ]
    },
    {
     "cell_type": "markdown",
     "metadata": {},
     "source": [
      "<h5><strong><code>h5dump()</code></strong> module from Kyle's Bitbucket Repo</h5>\n",
      "```python\n",
      ">>> def h5dump(filename):\n",
      "        if isinstance(filename,types.StringType):\n",
      "            infile = h5py.File(filename,'r')\n",
      "        elif isinstance(filename,h5py._hl.files.File):\n",
      "            infile=filename\n",
      "        else:\n",
      "            raise IOError, \"need an h5 filename or h5.File instance\"\n",
      "        infile.visititems(print_attrs)\n",
      "        print('-------------------')\n",
      "        print(\"attributes for the root file\")\n",
      "        print('-------------------')\n",
      "        for key,value in infile.attrs.items():\n",
      "            print(\"attribute name: \",key,\"--- value: \",value)\n",
      "        return Non\n",
      "```"
     ]
    },
    {
     "cell_type": "markdown",
     "metadata": {},
     "source": [
      "<h5>Load <code>example.h5</code> into the notebook</h5>"
     ]
    },
    {
     "cell_type": "code",
     "collapsed": false,
     "input": [
      "import h5py as h5\n",
      "from h5lib import h5dump, print_attrs\n",
      "\n",
      "f = h5.File('example.h5')\n",
      "\n",
      "print '\\nHDF5 file \\'example.h5\\' just loaded:\\n\\n%r' % f\n",
      "print '\\nWe see that the file has been opened in read-mode, hence the \\'mode +r\\'...'"
     ],
     "language": "python",
     "metadata": {},
     "outputs": [
      {
       "output_type": "stream",
       "stream": "stdout",
       "text": [
        "\n",
        "HDF5 file 'example.h5' just loaded:\n",
        "\n",
        "<HDF5 file \"example.h5\" (mode r+)>\n",
        "\n",
        "We see that the file has been opened in read-mode, hence the 'mode +r'...\n"
       ]
      }
     ],
     "prompt_number": 14
    },
    {
     "cell_type": "markdown",
     "metadata": {},
     "source": [
      "<h5>Data-type of loaded <code>.h5</code> file</h5>"
     ]
    },
    {
     "cell_type": "code",
     "collapsed": false,
     "input": [
      "print '\\nThe loaded .h5 file is of type...\\n%s' % type(f)\n",
      "print '\\nLoaded file is of type \\'File\\'.'"
     ],
     "language": "python",
     "metadata": {},
     "outputs": [
      {
       "output_type": "stream",
       "stream": "stdout",
       "text": [
        "\n",
        "The loaded .h5 file is of type...\n",
        "<class 'h5py._hl.files.File'>\n",
        "\n",
        "Loaded file is of type 'File'.\n"
       ]
      }
     ],
     "prompt_number": 40
    },
    {
     "cell_type": "markdown",
     "metadata": {},
     "source": [
      "<h2>Viewing the <em>metadata</em> of <code>HDF5</code> files</h2>\n",
      "\n",
      "<p>\n",
      "There are a few ways of viewing the stored <em>metadata</em>...\n",
      "</p>\n",
      "\n",
      "<p>One is to use <strong><code>h5dump()</code></strong> (contribution from <strong>Kyle</strong>).  This routine essentially prints out all of the material stored within the <strong><code>.h5</code></strong> file.</p>"
     ]
    },
    {
     "cell_type": "markdown",
     "metadata": {},
     "source": [
      "<h5>Using <code>h5dump</code> on \"<code>example.h5</code>\"</h5>"
     ]
    },
    {
     "cell_type": "code",
     "collapsed": false,
     "input": [
      "h5dump(f)"
     ],
     "language": "python",
     "metadata": {},
     "outputs": [
      {
       "output_type": "stream",
       "stream": "stdout",
       "text": [
        "item name:  Example SDS <HDF5 dataset \"Example SDS\": shape (16, 5), type \">i2\">\n",
        "    HDF4_OBJECT_TYPE: SDS\n",
        "    HDF4_OBJECT_NAME: Example SDS\n",
        "    HDF4_REF_NUM: 2\n",
        "item name:  Example Vdata <HDF5 dataset \"Example Vdata\": shape (10,), type \"|V6\">\n",
        "    TITLE: Example Vdata\n",
        "    CLASS: TABLE\n",
        "    VERSION: 1.0\n",
        "    FIELD_0_NAME: Idx\n",
        "    FIELD_1_NAME: Temp\n",
        "    FIELD_2_NAME: Dewpt\n",
        "    HDF4_OBJECT_TYPE: Vdata\n",
        "    HDF4_OBJECT_NAME: Example Vdata\n",
        "    HDF4_REF_NUM: 11\n",
        "item name:  Example Vdata_t <HDF5 named type \"Example Vdata_t\" (dtype |V6)>\n",
        "item name:  HDF4_DIMGROUP <HDF5 group \"/HDF4_DIMGROUP\" (0 members)>\n",
        "item name:  MonthlyRain <HDF5 group \"/MonthlyRain\" (2 members)>\n",
        "    HDF4_OBJECT_TYPE: Vgroup\n",
        "    HDF4_OBJECT_NAME: MonthlyRain\n",
        "    HDF4_REF_NUM: 12\n",
        "item name:  MonthlyRain/Data Fields <HDF5 group \"/MonthlyRain/Data Fields\" (2 members)>\n",
        "    HDF4_OBJECT_TYPE: Vgroup\n",
        "    HDF4_OBJECT_NAME: Data Fields\n",
        "    HDF4_REF_NUM: 13\n",
        "item name:  MonthlyRain/Data Fields/RrLandRain <HDF5 dataset \"RrLandRain\": shape (28, 72), type \">f4\">\n",
        "    HDF4_OBJECT_TYPE: SDS\n",
        "    HDF4_OBJECT_NAME: RrLandRain\n",
        "    HDF4_REF_NUM: 16\n",
        "    DIMENSION_NAMELIST: ['/HDF4_DIMGROUP/YDim:MonthlyRain' '/HDF4_DIMGROUP/XDim:MonthlyRain']\n",
        "item name:  MonthlyRain/Data Fields/TbOceanRain <HDF5 dataset \"TbOceanRain\": shape (28, 72), type \">f4\">\n",
        "    HDF4_OBJECT_TYPE: SDS\n",
        "    DIMENSION_NAMELIST: ['/HDF4_DIMGROUP/YDim:MonthlyRain' '/HDF4_DIMGROUP/XDim:MonthlyRain']\n",
        "    HDF4_OBJECT_NAME: TbOceanRain\n",
        "    HDF4_REF_NUM: 15\n",
        "item name:  MonthlyRain/Grid Attributes <HDF5 group \"/MonthlyRain/Grid Attributes\" (0 members)>\n",
        "    HDF4_OBJECT_TYPE: Vgroup\n",
        "    HDF4_OBJECT_NAME: Grid Attributes\n",
        "    HDF4_REF_NUM: 14\n",
        "-------------------\n",
        "attributes for the root file\n",
        "-------------------\n",
        "attribute name:  HDFEOSVersion_GLOSDS --- value:  HDFEOS_V2.16\n",
        "attribute name:  StructMetadata.0_GLOSDS --- value:  GROUP=SwathStructure\n",
        "END_GROUP=SwathStructure\n",
        "GROUP=GridStructure\n",
        "\tGROUP=GRID_1\n",
        "\t\tGridName=\"MonthlyRain\"\n",
        "\t\tXDim=72\n",
        "\t\tYDim=28\n",
        "\t\tUpperLeftPointMtrs=(0.000000,70000000.000000)\n",
        "\t\tLowerRightMtrs=(360000000.000000,-70000000.000000)\n",
        "\t\tProjection=GCTP_GEO\n",
        "\t\tGROUP=Dimension\n",
        "\t\tEND_GROUP=Dimension\n",
        "\t\tGROUP=DataField\n",
        "\t\t\tOBJECT=DataField_1\n",
        "\t\t\t\tDataFieldName=\"TbOceanRain\"\n",
        "\t\t\t\tDataType=DFNT_FLOAT32\n",
        "\t\t\t\tDimList=(\"YDim\",\"XDim\")\n",
        "\t\t\tEND_OBJECT=DataField_1\n",
        "\t\t\tOBJECT=DataField_2\n",
        "\t\t\t\tDataFieldName=\"RrLandRain\"\n",
        "\t\t\t\tDataType=DFNT_FLOAT32\n",
        "\t\t\t\tDimList=(\"YDim\",\"XDim\")\n",
        "\t\t\tEND_OBJECT=DataField_2\n",
        "\t\tEND_GROUP=DataField\n",
        "\t\tGROUP=MergedFields\n",
        "\t\tEND_GROUP=MergedFields\n",
        "\tEND_GROUP=GRID_1\n",
        "END_GROUP=GridStructure\n",
        "GROUP=PointStructure\n",
        "END_GROUP=PointStructure\n",
        "END\n",
        "\n"
       ]
      }
     ],
     "prompt_number": 33
    },
    {
     "cell_type": "markdown",
     "metadata": {},
     "source": [
      "<pre></pre>\n",
      "<p>\n",
      "The loaded <strong><code>.h5</code></strong> file is a organized as an [<strong><code>OrderedDict</code></strong>](https://docs.python.org/2/library/collections.html#collections.OrderedDict) data-container (recall [Python <strong><code>dictionaries</code></strong>](https://docs.python.org/2/tutorial/datastructures.html)).\n",
      "</p>"
     ]
    },
    {
     "cell_type": "markdown",
     "metadata": {},
     "source": [
      "<h5>Getting all \"items\" (<em>e.g.</em> <strong><code>key-value</code></strong> pairs, or all <code>groups</code> and <code>datasets</code>) stored in the <code>.h5</code> file</h5>\n",
      "<p>\n",
      "Accessing the <strong><code>.items()</code></strong> method of an <strong><code>.h5</code></strong> file will give you all of the stored <code>datasets</code> and <code>groups</code>.\n",
      "</p>"
     ]
    },
    {
     "cell_type": "code",
     "collapsed": false,
     "input": [
      "print '\\nStored groups and datasets within .h5 file:\\n'.upper()\n",
      "for each_item in f.items():\n",
      "    print each_item"
     ],
     "language": "python",
     "metadata": {},
     "outputs": [
      {
       "output_type": "stream",
       "stream": "stdout",
       "text": [
        "\n",
        "STORED GROUPS AND DATASETS WITHIN .H5 FILE:\n",
        "\n",
        "(u'Example SDS', <HDF5 dataset \"Example SDS\": shape (16, 5), type \">i2\">)\n",
        "(u'Example Vdata', <HDF5 dataset \"Example Vdata\": shape (10,), type \"|V6\">)\n",
        "(u'Example Vdata_t', <HDF5 named type \"Example Vdata_t\" (dtype |V6)>)\n",
        "(u'HDF4_DIMGROUP', <HDF5 group \"/HDF4_DIMGROUP\" (0 members)>)\n",
        "(u'MonthlyRain', <HDF5 group \"/MonthlyRain\" (2 members)>)\n"
       ]
      }
     ],
     "prompt_number": 63
    },
    {
     "cell_type": "markdown",
     "metadata": {},
     "source": [
      "<pre></pre>\n",
      "<p>\n",
      "If only the <strong><code>keys</code></strong> are desired, then simply use the <strong><code>.keys()</code></strong> method.\n",
      "</p>"
     ]
    },
    {
     "cell_type": "markdown",
     "metadata": {},
     "source": [
      "<h6>Example</h6>"
     ]
    },
    {
     "cell_type": "code",
     "collapsed": false,
     "input": [
      "print '\\nPrinting out all the keys in the imported hdf5 file.\\n'\n",
      "for n, each_key in enumerate(f.keys()):\n",
      "    print 'Key %d:\\t%s' % (n + 1, each_key)\n",
      "\n",
      "print '\\n'"
     ],
     "language": "python",
     "metadata": {},
     "outputs": [
      {
       "output_type": "stream",
       "stream": "stdout",
       "text": [
        "\n",
        "Printing out all the keys in the imported hdf5 file.\n",
        "\n",
        "Key 1:\tExample SDS\n",
        "Key 2:\tExample Vdata\n",
        "Key 3:\tExample Vdata_t\n",
        "Key 4:\tHDF4_DIMGROUP\n",
        "Key 5:\tMonthlyRain\n",
        "\n",
        "\n"
       ]
      }
     ],
     "prompt_number": 71
    },
    {
     "cell_type": "markdown",
     "metadata": {},
     "source": [
      "<h5>Accessing <em>metadata</em> of a specific <code>dataset</code> or <code>group</code></h5>\n",
      "\n",
      "<p>\n",
      "Can use the <strong><code>print_attrs()</code></strong> routine (thanks Kyle).  A look at the routine...\n",
      "</p>\n",
      "\n",
      "```python\n",
      ">>> def print_attrs(name, obj):\n",
      "        print(\"item name: \",name,repr(obj))\n",
      "        for key, val in obj.attrs.iteritems():\n",
      "            print(\"    %s: %s\" % (key, val))\n",
      "```"
     ]
    },
    {
     "cell_type": "markdown",
     "metadata": {},
     "source": [
      "<h5>Example 1: <em>Metadata</em> of a <code>dataset</code></h5>"
     ]
    },
    {
     "cell_type": "code",
     "collapsed": false,
     "input": [
      "print_attrs('Example SDS', f['Example SDS'])"
     ],
     "language": "python",
     "metadata": {},
     "outputs": [
      {
       "output_type": "stream",
       "stream": "stdout",
       "text": [
        "item name:  Example SDS <HDF5 dataset \"Example SDS\": shape (16, 5), type \">i2\">\n",
        "    HDF4_OBJECT_TYPE: SDS\n",
        "    HDF4_OBJECT_NAME: Example SDS\n",
        "    HDF4_REF_NUM: 2\n"
       ]
      }
     ],
     "prompt_number": 72
    },
    {
     "cell_type": "markdown",
     "metadata": {},
     "source": [
      "<h5>Example 2: Metadata of a <code>group</code></h5>"
     ]
    },
    {
     "cell_type": "code",
     "collapsed": false,
     "input": [
      "print_attrs('MonthlyRain', f['MonthlyRain'])\n",
      "\n",
      "print '''\\n\n",
      "Here, \n",
      "    - we see 'MonthlyRain' is a group belonging to the group 'Vgroup'.\n",
      "    - ...also see there are 2 additional members (or subgroups) attached to \n",
      "      this group.\n",
      "    - the subgroups can be accessed with the .keys() method.\n",
      "\\n'''"
     ],
     "language": "python",
     "metadata": {},
     "outputs": [
      {
       "output_type": "stream",
       "stream": "stdout",
       "text": [
        "item name:  MonthlyRain <HDF5 group \"/MonthlyRain\" (2 members)>\n",
        "    HDF4_OBJECT_TYPE: Vgroup\n",
        "    HDF4_OBJECT_NAME: MonthlyRain\n",
        "    HDF4_REF_NUM: 12\n",
        "\n",
        "\n",
        "Here, \n",
        "    - we see 'MonthlyRain' is a group belonging to the group 'Vgroup'.\n",
        "    - ...also see there are 2 additional members (or subgroups) attached to \n",
        "      this group.\n",
        "    - the subgroups can be accessed with the .keys() method.\n",
        "\n",
        "\n"
       ]
      }
     ],
     "prompt_number": 83
    },
    {
     "cell_type": "code",
     "collapsed": false,
     "input": [
      "for n, each_key in enumerate(f['MonthlyRain']):\n",
      "    print 'Key %d:\\t%s' % (n+1, each_key)\n",
      "\n",
      "print '''\\n\n",
      "We can check/confirm what object type each group/dataset is, by using the 'type()' \n",
      "function.\\n\n",
      "'''"
     ],
     "language": "python",
     "metadata": {},
     "outputs": [
      {
       "output_type": "stream",
       "stream": "stdout",
       "text": [
        "Key 1:\tData Fields\n",
        "Key 2:\tGrid Attributes\n",
        "\n",
        "\n",
        "We can check/confirm what object type each group/dataset is, by using the 'type()' \n",
        "function.\n",
        "\n",
        "\n"
       ]
      }
     ],
     "prompt_number": 90
    },
    {
     "cell_type": "code",
     "collapsed": false,
     "input": [
      "print 'f[\\'MonthlyRain\\'] is a of type:\\n\\n%s\\n' % type(f['MonthlyRain'])"
     ],
     "language": "python",
     "metadata": {},
     "outputs": [
      {
       "output_type": "stream",
       "stream": "stdout",
       "text": [
        "f['MonthlyRain'] is a of type:\n",
        "\n",
        "<class 'h5py._hl.group.Group'>\n",
        "\n"
       ]
      }
     ],
     "prompt_number": 92
    },
    {
     "cell_type": "markdown",
     "metadata": {},
     "source": [
      "<h5>Accessing the <strong><code>Data Fields</code></strong> subgroup in <strong><code>f['MonthlyRain']</code></strong> & accessing its <em>metadata</em></h5>"
     ]
    },
    {
     "cell_type": "code",
     "collapsed": false,
     "input": [
      "print_attrs('Data Fields Metadata', f['MonthlyRain']['Data Fields'])\n",
      "\n",
      "print '\\nHere we see 2 members of the Data Fields group, so we can access \\n\\\n",
      "additional fields with the .keys() method.\\n'\n",
      "\n",
      "print 'Additional groups/datasets:\\n'\n",
      "for n, each_key in enumerate(f['MonthlyRain']['Data Fields']):\n",
      "    print 'Key %d:\\t%s' % (n+1, each_key)"
     ],
     "language": "python",
     "metadata": {},
     "outputs": [
      {
       "output_type": "stream",
       "stream": "stdout",
       "text": [
        "item name:  Data Fields Metadata <HDF5 group \"/MonthlyRain/Data Fields\" (2 members)>\n",
        "    HDF4_OBJECT_TYPE: Vgroup\n",
        "    HDF4_OBJECT_NAME: Data Fields\n",
        "    HDF4_REF_NUM: 13\n",
        "\n",
        "Here we see 2 members of the Data Fields group, so we can access \n",
        "additional fields with the .keys() method.\n",
        "\n",
        "Additional groups/datasets:\n",
        "\n",
        "Key 1:\tRrLandRain\n",
        "Key 2:\tTbOceanRain\n"
       ]
      }
     ],
     "prompt_number": 98
    },
    {
     "cell_type": "code",
     "collapsed": false,
     "input": [
      "type(f['MonthlyRain']['Data Fields']['TbOceanRain'])"
     ],
     "language": "python",
     "metadata": {},
     "outputs": [
      {
       "metadata": {},
       "output_type": "pyout",
       "prompt_number": 97,
       "text": [
        "h5py._hl.dataset.Dataset"
       ]
      }
     ],
     "prompt_number": 97
    },
    {
     "cell_type": "markdown",
     "metadata": {},
     "source": [
      "<h5>Can access the numerical values of specific datasets by using the <code>.value()</code> method.</h5>"
     ]
    },
    {
     "cell_type": "code",
     "collapsed": false,
     "input": [
      "print '\\n', f['MonthlyRain']['Data Fields']['TbOceanRain'].value"
     ],
     "language": "python",
     "metadata": {},
     "outputs": [
      {
       "output_type": "stream",
       "stream": "stdout",
       "text": [
        "\n",
        "[[ -1.  -1.  -1. ...,  -1.  -1.  -1.]\n",
        " [ -1.  -1.  -1. ...,  -1.  -1.  -1.]\n",
        " [ 93.  -1.  -1. ...,  58.  -1.  -1.]\n",
        " ..., \n",
        " [ -1.  -1.  -1. ...,  -1.  -1.  -1.]\n",
        " [ -1.  -1.  -1. ...,  -1.  -1.  -1.]\n",
        " [ -1.  -1.  -1. ...,  -1.  -1.  -1.]]\n"
       ]
      }
     ],
     "prompt_number": 104
    }
   ],
   "metadata": {}
  }
 ]
}